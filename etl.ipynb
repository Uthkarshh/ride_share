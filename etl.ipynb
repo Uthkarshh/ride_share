{
 "cells": [
  {
   "cell_type": "code",
   "execution_count": 31,
   "metadata": {},
   "outputs": [],
   "source": [
    "import duckdb as db\n",
    "import polars as pl"
   ]
  },
  {
   "cell_type": "code",
   "execution_count": 32,
   "metadata": {},
   "outputs": [],
   "source": [
    "df = db.read_parquet(\"rides/green_tripdata_2021-06.parquet\")"
   ]
  },
  {
   "cell_type": "code",
   "execution_count": 33,
   "metadata": {},
   "outputs": [],
   "source": [
    "pdf = pl.DataFrame(df).with_row_index(\"index\")"
   ]
  },
  {
   "cell_type": "code",
   "execution_count": 35,
   "metadata": {},
   "outputs": [
    {
     "data": {
      "text/html": [
       "<div><style>\n",
       ".dataframe > thead > tr,\n",
       ".dataframe > tbody > tr {\n",
       "  text-align: right;\n",
       "  white-space: pre-wrap;\n",
       "}\n",
       "</style>\n",
       "<small>shape: (86_737, 21)</small><table border=\"1\" class=\"dataframe\"><thead><tr><th>index</th><th>VendorID</th><th>lpep_pickup_datetime</th><th>lpep_dropoff_datetime</th><th>store_and_fwd_flag</th><th>RatecodeID</th><th>PULocationID</th><th>DOLocationID</th><th>passenger_count</th><th>trip_distance</th><th>fare_amount</th><th>extra</th><th>mta_tax</th><th>tip_amount</th><th>tolls_amount</th><th>ehail_fee</th><th>improvement_surcharge</th><th>total_amount</th><th>payment_type</th><th>trip_type</th><th>congestion_surcharge</th></tr><tr><td>u32</td><td>i64</td><td>datetime[μs]</td><td>datetime[μs]</td><td>str</td><td>f64</td><td>i64</td><td>i64</td><td>f64</td><td>f64</td><td>f64</td><td>f64</td><td>f64</td><td>f64</td><td>f64</td><td>i32</td><td>f64</td><td>f64</td><td>f64</td><td>f64</td><td>f64</td></tr></thead><tbody><tr><td>0</td><td>2</td><td>2021-06-01 00:31:19</td><td>2021-06-01 00:42:14</td><td>&quot;N&quot;</td><td>5.0</td><td>168</td><td>235</td><td>2.0</td><td>4.89</td><td>15.0</td><td>0.0</td><td>0.0</td><td>4.59</td><td>0.0</td><td>null</td><td>0.3</td><td>19.89</td><td>1.0</td><td>2.0</td><td>0.0</td></tr><tr><td>1</td><td>2</td><td>2021-06-01 00:16:07</td><td>2021-06-01 00:24:13</td><td>&quot;N&quot;</td><td>1.0</td><td>82</td><td>7</td><td>1.0</td><td>1.44</td><td>7.5</td><td>0.5</td><td>0.5</td><td>0.0</td><td>0.0</td><td>null</td><td>0.3</td><td>8.8</td><td>2.0</td><td>1.0</td><td>0.0</td></tr><tr><td>2</td><td>1</td><td>2021-06-01 00:03:58</td><td>2021-06-01 00:21:20</td><td>&quot;N&quot;</td><td>1.0</td><td>244</td><td>74</td><td>1.0</td><td>2.3</td><td>13.5</td><td>0.5</td><td>0.5</td><td>0.0</td><td>0.0</td><td>null</td><td>0.3</td><td>14.8</td><td>2.0</td><td>1.0</td><td>0.0</td></tr><tr><td>3</td><td>2</td><td>2021-06-01 00:00:57</td><td>2021-06-01 00:03:19</td><td>&quot;N&quot;</td><td>1.0</td><td>254</td><td>254</td><td>1.0</td><td>0.86</td><td>4.5</td><td>0.5</td><td>0.5</td><td>0.0</td><td>0.0</td><td>null</td><td>0.3</td><td>5.8</td><td>2.0</td><td>1.0</td><td>0.0</td></tr><tr><td>4</td><td>2</td><td>2021-06-01 00:33:22</td><td>2021-06-01 00:56:17</td><td>&quot;N&quot;</td><td>1.0</td><td>127</td><td>174</td><td>4.0</td><td>3.82</td><td>18.5</td><td>0.5</td><td>0.5</td><td>0.0</td><td>0.0</td><td>null</td><td>0.3</td><td>19.8</td><td>1.0</td><td>1.0</td><td>0.0</td></tr><tr><td>&hellip;</td><td>&hellip;</td><td>&hellip;</td><td>&hellip;</td><td>&hellip;</td><td>&hellip;</td><td>&hellip;</td><td>&hellip;</td><td>&hellip;</td><td>&hellip;</td><td>&hellip;</td><td>&hellip;</td><td>&hellip;</td><td>&hellip;</td><td>&hellip;</td><td>&hellip;</td><td>&hellip;</td><td>&hellip;</td><td>&hellip;</td><td>&hellip;</td><td>&hellip;</td></tr><tr><td>86732</td><td>2</td><td>2021-06-30 23:35:00</td><td>2021-06-30 23:45:00</td><td>null</td><td>null</td><td>7</td><td>173</td><td>null</td><td>3.7</td><td>21.45</td><td>2.75</td><td>0.0</td><td>0.0</td><td>0.0</td><td>null</td><td>0.3</td><td>24.5</td><td>null</td><td>null</td><td>null</td></tr><tr><td>86733</td><td>2</td><td>2021-06-30 23:51:00</td><td>2021-07-01 00:18:00</td><td>null</td><td>null</td><td>112</td><td>71</td><td>null</td><td>6.44</td><td>36.51</td><td>0.0</td><td>0.0</td><td>8.19</td><td>0.0</td><td>null</td><td>0.3</td><td>45.0</td><td>null</td><td>null</td><td>null</td></tr><tr><td>86734</td><td>2</td><td>2021-06-30 23:53:00</td><td>2021-07-01 00:15:00</td><td>null</td><td>null</td><td>42</td><td>254</td><td>null</td><td>9.7</td><td>46.15</td><td>2.75</td><td>0.0</td><td>0.0</td><td>0.0</td><td>null</td><td>0.3</td><td>49.2</td><td>null</td><td>null</td><td>null</td></tr><tr><td>86735</td><td>2</td><td>2021-06-30 23:24:00</td><td>2021-06-30 23:34:00</td><td>null</td><td>null</td><td>62</td><td>190</td><td>null</td><td>1.91</td><td>15.45</td><td>2.75</td><td>0.0</td><td>0.0</td><td>0.0</td><td>null</td><td>0.3</td><td>18.5</td><td>null</td><td>null</td><td>null</td></tr><tr><td>86736</td><td>2</td><td>2021-06-30 23:03:00</td><td>2021-06-30 23:29:00</td><td>null</td><td>null</td><td>191</td><td>35</td><td>null</td><td>15.46</td><td>52.68</td><td>2.75</td><td>0.0</td><td>0.0</td><td>0.0</td><td>null</td><td>0.3</td><td>55.73</td><td>null</td><td>null</td><td>null</td></tr></tbody></table></div>"
      ],
      "text/plain": [
       "shape: (86_737, 21)\n",
       "┌───────┬──────────┬────────────┬────────────┬───┬────────────┬────────────┬───────────┬───────────┐\n",
       "│ index ┆ VendorID ┆ lpep_picku ┆ lpep_dropo ┆ … ┆ total_amou ┆ payment_ty ┆ trip_type ┆ congestio │\n",
       "│ ---   ┆ ---      ┆ p_datetime ┆ ff_datetim ┆   ┆ nt         ┆ pe         ┆ ---       ┆ n_surchar │\n",
       "│ u32   ┆ i64      ┆ ---        ┆ e          ┆   ┆ ---        ┆ ---        ┆ f64       ┆ ge        │\n",
       "│       ┆          ┆ datetime[μ ┆ ---        ┆   ┆ f64        ┆ f64        ┆           ┆ ---       │\n",
       "│       ┆          ┆ s]         ┆ datetime[μ ┆   ┆            ┆            ┆           ┆ f64       │\n",
       "│       ┆          ┆            ┆ s]         ┆   ┆            ┆            ┆           ┆           │\n",
       "╞═══════╪══════════╪════════════╪════════════╪═══╪════════════╪════════════╪═══════════╪═══════════╡\n",
       "│ 0     ┆ 2        ┆ 2021-06-01 ┆ 2021-06-01 ┆ … ┆ 19.89      ┆ 1.0        ┆ 2.0       ┆ 0.0       │\n",
       "│       ┆          ┆ 00:31:19   ┆ 00:42:14   ┆   ┆            ┆            ┆           ┆           │\n",
       "│ 1     ┆ 2        ┆ 2021-06-01 ┆ 2021-06-01 ┆ … ┆ 8.8        ┆ 2.0        ┆ 1.0       ┆ 0.0       │\n",
       "│       ┆          ┆ 00:16:07   ┆ 00:24:13   ┆   ┆            ┆            ┆           ┆           │\n",
       "│ 2     ┆ 1        ┆ 2021-06-01 ┆ 2021-06-01 ┆ … ┆ 14.8       ┆ 2.0        ┆ 1.0       ┆ 0.0       │\n",
       "│       ┆          ┆ 00:03:58   ┆ 00:21:20   ┆   ┆            ┆            ┆           ┆           │\n",
       "│ 3     ┆ 2        ┆ 2021-06-01 ┆ 2021-06-01 ┆ … ┆ 5.8        ┆ 2.0        ┆ 1.0       ┆ 0.0       │\n",
       "│       ┆          ┆ 00:00:57   ┆ 00:03:19   ┆   ┆            ┆            ┆           ┆           │\n",
       "│ 4     ┆ 2        ┆ 2021-06-01 ┆ 2021-06-01 ┆ … ┆ 19.8       ┆ 1.0        ┆ 1.0       ┆ 0.0       │\n",
       "│       ┆          ┆ 00:33:22   ┆ 00:56:17   ┆   ┆            ┆            ┆           ┆           │\n",
       "│ …     ┆ …        ┆ …          ┆ …          ┆ … ┆ …          ┆ …          ┆ …         ┆ …         │\n",
       "│ 86732 ┆ 2        ┆ 2021-06-30 ┆ 2021-06-30 ┆ … ┆ 24.5       ┆ null       ┆ null      ┆ null      │\n",
       "│       ┆          ┆ 23:35:00   ┆ 23:45:00   ┆   ┆            ┆            ┆           ┆           │\n",
       "│ 86733 ┆ 2        ┆ 2021-06-30 ┆ 2021-07-01 ┆ … ┆ 45.0       ┆ null       ┆ null      ┆ null      │\n",
       "│       ┆          ┆ 23:51:00   ┆ 00:18:00   ┆   ┆            ┆            ┆           ┆           │\n",
       "│ 86734 ┆ 2        ┆ 2021-06-30 ┆ 2021-07-01 ┆ … ┆ 49.2       ┆ null       ┆ null      ┆ null      │\n",
       "│       ┆          ┆ 23:53:00   ┆ 00:15:00   ┆   ┆            ┆            ┆           ┆           │\n",
       "│ 86735 ┆ 2        ┆ 2021-06-30 ┆ 2021-06-30 ┆ … ┆ 18.5       ┆ null       ┆ null      ┆ null      │\n",
       "│       ┆          ┆ 23:24:00   ┆ 23:34:00   ┆   ┆            ┆            ┆           ┆           │\n",
       "│ 86736 ┆ 2        ┆ 2021-06-30 ┆ 2021-06-30 ┆ … ┆ 55.73      ┆ null       ┆ null      ┆ null      │\n",
       "│       ┆          ┆ 23:03:00   ┆ 23:29:00   ┆   ┆            ┆            ┆           ┆           │\n",
       "└───────┴──────────┴────────────┴────────────┴───┴────────────┴────────────┴───────────┴───────────┘"
      ]
     },
     "execution_count": 35,
     "metadata": {},
     "output_type": "execute_result"
    }
   ],
   "source": [
    "pdf.select(pl.col(\"*\"))"
   ]
  }
 ],
 "metadata": {
  "kernelspec": {
   "display_name": "Python 3",
   "language": "python",
   "name": "python3"
  },
  "language_info": {
   "codemirror_mode": {
    "name": "ipython",
    "version": 3
   },
   "file_extension": ".py",
   "mimetype": "text/x-python",
   "name": "python",
   "nbconvert_exporter": "python",
   "pygments_lexer": "ipython3",
   "version": "3.12.3"
  }
 },
 "nbformat": 4,
 "nbformat_minor": 2
}
