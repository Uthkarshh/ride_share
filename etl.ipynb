{
 "cells": [
  {
   "cell_type": "code",
   "execution_count": 25,
   "metadata": {},
   "outputs": [],
   "source": [
    "import duckdb as db\n",
    "import polars as pl"
   ]
  },
  {
   "cell_type": "code",
   "execution_count": 26,
   "metadata": {},
   "outputs": [],
   "source": [
    "df = db.read_parquet(\"rides/green_tripdata_2021-06.parquet\")"
   ]
  },
  {
   "cell_type": "code",
   "execution_count": 27,
   "metadata": {},
   "outputs": [],
   "source": [
    "pdf = pl.DataFrame(df)"
   ]
  },
  {
   "cell_type": "code",
   "execution_count": 29,
   "metadata": {},
   "outputs": [
    {
     "data": {
      "text/html": [
       "<div><style>\n",
       ".dataframe > thead > tr,\n",
       ".dataframe > tbody > tr {\n",
       "  text-align: right;\n",
       "  white-space: pre-wrap;\n",
       "}\n",
       "</style>\n",
       "<small>shape: (5, 20)</small><table border=\"1\" class=\"dataframe\"><thead><tr><th>VendorID</th><th>lpep_pickup_datetime</th><th>lpep_dropoff_datetime</th><th>store_and_fwd_flag</th><th>RatecodeID</th><th>PULocationID</th><th>DOLocationID</th><th>passenger_count</th><th>trip_distance</th><th>fare_amount</th><th>extra</th><th>mta_tax</th><th>tip_amount</th><th>tolls_amount</th><th>ehail_fee</th><th>improvement_surcharge</th><th>total_amount</th><th>payment_type</th><th>trip_type</th><th>congestion_surcharge</th></tr><tr><td>i64</td><td>datetime[μs]</td><td>datetime[μs]</td><td>str</td><td>f64</td><td>i64</td><td>i64</td><td>f64</td><td>f64</td><td>f64</td><td>f64</td><td>f64</td><td>f64</td><td>f64</td><td>i32</td><td>f64</td><td>f64</td><td>f64</td><td>f64</td><td>f64</td></tr></thead><tbody><tr><td>2</td><td>2021-06-01 00:31:19</td><td>2021-06-01 00:42:14</td><td>&quot;N&quot;</td><td>5.0</td><td>168</td><td>235</td><td>2.0</td><td>4.89</td><td>15.0</td><td>0.0</td><td>0.0</td><td>4.59</td><td>0.0</td><td>null</td><td>0.3</td><td>19.89</td><td>1.0</td><td>2.0</td><td>0.0</td></tr><tr><td>2</td><td>2021-06-01 00:16:07</td><td>2021-06-01 00:24:13</td><td>&quot;N&quot;</td><td>1.0</td><td>82</td><td>7</td><td>1.0</td><td>1.44</td><td>7.5</td><td>0.5</td><td>0.5</td><td>0.0</td><td>0.0</td><td>null</td><td>0.3</td><td>8.8</td><td>2.0</td><td>1.0</td><td>0.0</td></tr><tr><td>1</td><td>2021-06-01 00:03:58</td><td>2021-06-01 00:21:20</td><td>&quot;N&quot;</td><td>1.0</td><td>244</td><td>74</td><td>1.0</td><td>2.3</td><td>13.5</td><td>0.5</td><td>0.5</td><td>0.0</td><td>0.0</td><td>null</td><td>0.3</td><td>14.8</td><td>2.0</td><td>1.0</td><td>0.0</td></tr><tr><td>2</td><td>2021-06-01 00:00:57</td><td>2021-06-01 00:03:19</td><td>&quot;N&quot;</td><td>1.0</td><td>254</td><td>254</td><td>1.0</td><td>0.86</td><td>4.5</td><td>0.5</td><td>0.5</td><td>0.0</td><td>0.0</td><td>null</td><td>0.3</td><td>5.8</td><td>2.0</td><td>1.0</td><td>0.0</td></tr><tr><td>2</td><td>2021-06-01 00:33:22</td><td>2021-06-01 00:56:17</td><td>&quot;N&quot;</td><td>1.0</td><td>127</td><td>174</td><td>4.0</td><td>3.82</td><td>18.5</td><td>0.5</td><td>0.5</td><td>0.0</td><td>0.0</td><td>null</td><td>0.3</td><td>19.8</td><td>1.0</td><td>1.0</td><td>0.0</td></tr></tbody></table></div>"
      ],
      "text/plain": [
       "shape: (5, 20)\n",
       "┌──────────┬───────────┬───────────┬───────────┬───┬───────────┬───────────┬───────────┬───────────┐\n",
       "│ VendorID ┆ lpep_pick ┆ lpep_drop ┆ store_and ┆ … ┆ total_amo ┆ payment_t ┆ trip_type ┆ congestio │\n",
       "│ ---      ┆ up_dateti ┆ off_datet ┆ _fwd_flag ┆   ┆ unt       ┆ ype       ┆ ---       ┆ n_surchar │\n",
       "│ i64      ┆ me        ┆ ime       ┆ ---       ┆   ┆ ---       ┆ ---       ┆ f64       ┆ ge        │\n",
       "│          ┆ ---       ┆ ---       ┆ str       ┆   ┆ f64       ┆ f64       ┆           ┆ ---       │\n",
       "│          ┆ datetime[ ┆ datetime[ ┆           ┆   ┆           ┆           ┆           ┆ f64       │\n",
       "│          ┆ μs]       ┆ μs]       ┆           ┆   ┆           ┆           ┆           ┆           │\n",
       "╞══════════╪═══════════╪═══════════╪═══════════╪═══╪═══════════╪═══════════╪═══════════╪═══════════╡\n",
       "│ 2        ┆ 2021-06-0 ┆ 2021-06-0 ┆ N         ┆ … ┆ 19.89     ┆ 1.0       ┆ 2.0       ┆ 0.0       │\n",
       "│          ┆ 1         ┆ 1         ┆           ┆   ┆           ┆           ┆           ┆           │\n",
       "│          ┆ 00:31:19  ┆ 00:42:14  ┆           ┆   ┆           ┆           ┆           ┆           │\n",
       "│ 2        ┆ 2021-06-0 ┆ 2021-06-0 ┆ N         ┆ … ┆ 8.8       ┆ 2.0       ┆ 1.0       ┆ 0.0       │\n",
       "│          ┆ 1         ┆ 1         ┆           ┆   ┆           ┆           ┆           ┆           │\n",
       "│          ┆ 00:16:07  ┆ 00:24:13  ┆           ┆   ┆           ┆           ┆           ┆           │\n",
       "│ 1        ┆ 2021-06-0 ┆ 2021-06-0 ┆ N         ┆ … ┆ 14.8      ┆ 2.0       ┆ 1.0       ┆ 0.0       │\n",
       "│          ┆ 1         ┆ 1         ┆           ┆   ┆           ┆           ┆           ┆           │\n",
       "│          ┆ 00:03:58  ┆ 00:21:20  ┆           ┆   ┆           ┆           ┆           ┆           │\n",
       "│ 2        ┆ 2021-06-0 ┆ 2021-06-0 ┆ N         ┆ … ┆ 5.8       ┆ 2.0       ┆ 1.0       ┆ 0.0       │\n",
       "│          ┆ 1         ┆ 1         ┆           ┆   ┆           ┆           ┆           ┆           │\n",
       "│          ┆ 00:00:57  ┆ 00:03:19  ┆           ┆   ┆           ┆           ┆           ┆           │\n",
       "│ 2        ┆ 2021-06-0 ┆ 2021-06-0 ┆ N         ┆ … ┆ 19.8      ┆ 1.0       ┆ 1.0       ┆ 0.0       │\n",
       "│          ┆ 1         ┆ 1         ┆           ┆   ┆           ┆           ┆           ┆           │\n",
       "│          ┆ 00:33:22  ┆ 00:56:17  ┆           ┆   ┆           ┆           ┆           ┆           │\n",
       "└──────────┴───────────┴───────────┴───────────┴───┴───────────┴───────────┴───────────┴───────────┘"
      ]
     },
     "execution_count": 29,
     "metadata": {},
     "output_type": "execute_result"
    }
   ],
   "source": [
    "pdf.head()"
   ]
  }
 ],
 "metadata": {
  "kernelspec": {
   "display_name": "Python 3",
   "language": "python",
   "name": "python3"
  },
  "language_info": {
   "codemirror_mode": {
    "name": "ipython",
    "version": 3
   },
   "file_extension": ".py",
   "mimetype": "text/x-python",
   "name": "python",
   "nbconvert_exporter": "python",
   "pygments_lexer": "ipython3",
   "version": "3.12.3"
  }
 },
 "nbformat": 4,
 "nbformat_minor": 2
}
